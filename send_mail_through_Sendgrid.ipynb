{
 "cells": [
  {
   "cell_type": "code",
   "execution_count": 19,
   "metadata": {},
   "outputs": [],
   "source": [
    "import pandas as pd\n",
    "import numpy as np\n",
    "import time\n",
    "import sys\n",
    "import os\n",
    "import re\n",
    "\n",
    "# sengrid smtplib protocols entered below\n",
    "\n",
    "from smtplib import SMTP_SSL as SMTP       # this invokes the secure SMTP protocol (port 465, uses SSL)\n",
    "# from smtplib import SMTP                  # use this for standard SMTP protocol   (port 25, no encryption)\n",
    "\n",
    "\n",
    "# from email.MIMEText import MIMEText     # old version\n",
    "from email.mime.text import MIMEText\n",
    "from email.mime.image import MIMEImage\n",
    "from email.mime.multipart import MIMEMultipart\n",
    "\n",
    "log = pd.read_csv('/Users/vidur/Downloads/csv-test.csv', encoding='utf-8')    #enter your sending mails csv file HERE"
   ]
  },
  {
   "cell_type": "code",
   "execution_count": 20,
   "metadata": {},
   "outputs": [
    {
     "data": {
      "text/html": [
       "<div>\n",
       "<style scoped>\n",
       "    .dataframe tbody tr th:only-of-type {\n",
       "        vertical-align: middle;\n",
       "    }\n",
       "\n",
       "    .dataframe tbody tr th {\n",
       "        vertical-align: top;\n",
       "    }\n",
       "\n",
       "    .dataframe thead th {\n",
       "        text-align: right;\n",
       "    }\n",
       "</style>\n",
       "<table border=\"1\" class=\"dataframe\">\n",
       "  <thead>\n",
       "    <tr style=\"text-align: right;\">\n",
       "      <th></th>\n",
       "      <th>Team Name</th>\n",
       "      <th>Name of the team captain</th>\n",
       "      <th>Email address of the team captain</th>\n",
       "      <th>Username</th>\n",
       "      <th>Password</th>\n",
       "    </tr>\n",
       "  </thead>\n",
       "  <tbody>\n",
       "    <tr>\n",
       "      <th>0</th>\n",
       "      <td>team 3</td>\n",
       "      <td>vidura</td>\n",
       "      <td>viduraerandika@gmail.com</td>\n",
       "      <td>vidura_1</td>\n",
       "      <td>jkin</td>\n",
       "    </tr>\n",
       "  </tbody>\n",
       "</table>\n",
       "</div>"
      ],
      "text/plain": [
       "  Team Name Name of the team captain Email address of the team captain  \\\n",
       "0    team 3                   vidura          viduraerandika@gmail.com   \n",
       "\n",
       "   Username Password  \n",
       "0  vidura_1     jkin  "
      ]
     },
     "execution_count": 20,
     "metadata": {},
     "output_type": "execute_result"
    }
   ],
   "source": [
    "log.head()"
   ]
  },
  {
   "cell_type": "code",
   "execution_count": 21,
   "metadata": {},
   "outputs": [],
   "source": [
    "def check():      #(optional) run this to verify the csv file\n",
    "    lens =[]\n",
    "    for col_name in log.columns.values:\n",
    "        print(col_name)\n",
    "        x = log[col_name].tolist()\n",
    "        \n",
    "        size = len(x) - sum(pd.isnull(x))\n",
    "        \n",
    "        lens.append(size)\n",
    "        \n",
    "    x = lens[0]\n",
    "    print(lens)\n",
    "    \n",
    "    if len(log.columns.values)!= lens.count(x):\n",
    "        print(\"**** Failed !!\")\n",
    "        return False\n",
    "    else:\n",
    "        print(\"check success!\")\n",
    "        return True"
   ]
  },
  {
   "cell_type": "code",
   "execution_count": 22,
   "metadata": {},
   "outputs": [
    {
     "name": "stdout",
     "output_type": "stream",
     "text": [
      "Team Name\n",
      "Name of the team captain\n",
      "Email address of the team captain\n",
      "Username\n",
      "Password\n",
      "[1, 1, 1, 1, 1]\n",
      "check success!\n"
     ]
    },
    {
     "data": {
      "text/plain": [
       "True"
      ]
     },
     "execution_count": 22,
     "metadata": {},
     "output_type": "execute_result"
    }
   ],
   "source": [
    "check()     #calling the above function"
   ]
  },
  {
   "cell_type": "code",
   "execution_count": 23,
   "metadata": {},
   "outputs": [],
   "source": [
    "failed = []"
   ]
  },
  {
   "cell_type": "code",
   "execution_count": 16,
   "metadata": {},
   "outputs": [],
   "source": [
    "def send_email(name,email,username,password,ref,i,teamname):\n",
    "    SMTPserver = 'smtp.sendgrid.net'  #since i'm using sendgrid apis placed their SMTPserver here.\n",
    "    sender =     'Test <***@uom.lk>'   # keyword <your sendgrid mail >\n",
    "    destination = [email]            #sending destination\n",
    "    print(i,end=\" \")\n",
    "    print(destination,end=\"\")\n",
    "    \n",
    "    USERNAME = \"apikey\"               #set the sendgrid smtp api key and password here\n",
    "    PASSWORD = \"********************************************************\"\n",
    "\n",
    "    # typical values for text_subtype are plain, html, xml\n",
    "    text_subtype = 'html'\n",
    "\n",
    "    content=\"\"\"\\\n",
    "            \n",
    "            <p> Place Your Content here. </p>\n",
    "    \n",
    "    \"\"\" \n",
    "\n",
    "    subject=\"Email Subject here\"\n",
    "\n",
    "\n",
    "\n",
    "    try:\n",
    "        msg = MIMEText(content, text_subtype)\n",
    "        msg['Subject']=       subject\n",
    "        msg['From']   = sender # some SMTP servers will do this automatically, not all\n",
    "\n",
    "        conn = SMTP(SMTPserver)\n",
    "        conn.set_debuglevel(False)\n",
    "        conn.login(USERNAME, PASSWORD)\n",
    "        try:\n",
    "            conn.sendmail(sender, destination, msg.as_string())\n",
    "        finally:\n",
    "            print(\"*\")\n",
    "            conn.quit()\n",
    "            \n",
    "\n",
    "    except:\n",
    "        failed.append(i)\n",
    "        print(\"FAILED! - \"+ str(destination))\n",
    "        #sys.exit( \"mail failed; %s\" % \"CUSTOM_ERROR\" ) # give an error message"
   ]
  },
  {
   "cell_type": "code",
   "execution_count": 17,
   "metadata": {},
   "outputs": [],
   "source": [
    "def send_bulk():\n",
    "    c = check()\n",
    "    \n",
    "    \n",
    "    if(c):\n",
    "        for index, row in log.iterrows():\n",
    "            \n",
    "            # below are some examples to connect the csv and email\n",
    "            # choose the mail row , name row correctly in the csv file and enter\n",
    "            # row starting from 0\n",
    "            \n",
    "            name     = row[1]\n",
    "            email    = row[2]\n",
    "            username = row[3]\n",
    "            password = row[4]\n",
    "            ref      = ''\n",
    "            teamname = row[0]\n",
    "            print(email)\n",
    "            \n",
    "            #if(index):\n",
    "            #print(name, email, username , password, ref, index)\n",
    "            send_email(name,email,username,password,ref,index,teamname)"
   ]
  },
  {
   "cell_type": "code",
   "execution_count": 18,
   "metadata": {},
   "outputs": [
    {
     "name": "stdout",
     "output_type": "stream",
     "text": [
      "Team Name\n",
      "Name of the team captain\n",
      "Email address of the team captain\n",
      "Username\n",
      "Password\n",
      "[1, 1, 1, 1, 1]\n",
      "check success!\n",
      "viduraerandika@gmail.com\n",
      "0 ['viduraerandika@gmail.com']*\n"
     ]
    }
   ],
   "source": [
    "send_bulk()"
   ]
  }
 ],
 "metadata": {
  "kernelspec": {
   "display_name": "Python 3",
   "language": "python",
   "name": "python3"
  },
  "language_info": {
   "codemirror_mode": {
    "name": "ipython",
    "version": 3
   },
   "file_extension": ".py",
   "mimetype": "text/x-python",
   "name": "python",
   "nbconvert_exporter": "python",
   "pygments_lexer": "ipython3",
   "version": "3.7.8"
  }
 },
 "nbformat": 4,
 "nbformat_minor": 4
}
